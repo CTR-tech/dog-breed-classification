{
  "nbformat": 4,
  "nbformat_minor": 0,
  "metadata": {
    "colab": {
      "provenance": [],
      "authorship_tag": "ABX9TyO6tsBMB+XEL+TGxfwDYQzC"
    },
    "kernelspec": {
      "name": "python3",
      "display_name": "Python 3"
    },
    "language_info": {
      "name": "python"
    }
  },
  "cells": [
    {
      "cell_type": "code",
      "execution_count": 1,
      "metadata": {
        "id": "TVGZDz2IZ2P4",
        "colab": {
          "base_uri": "https://localhost:8080/"
        },
        "outputId": "77357467-4781-4524-8b2c-176f11948429"
      },
      "outputs": [
        {
          "output_type": "stream",
          "name": "stdout",
          "text": [
            "test\n"
          ]
        }
      ],
      "source": [
        "print('test')"
      ]
    },
    {
      "cell_type": "code",
      "source": [],
      "metadata": {
        "id": "53d4SjAlf8lX"
      },
      "execution_count": null,
      "outputs": []
    }
  ]
}