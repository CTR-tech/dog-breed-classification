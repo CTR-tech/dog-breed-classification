{
  "nbformat": 4,
  "nbformat_minor": 0,
  "metadata": {
    "colab": {
      "provenance": [],
      "authorship_tag": "ABX9TyNqpK0OJbtzejl4PZyUexj+"
    },
    "kernelspec": {
      "name": "python3",
      "display_name": "Python 3"
    },
    "language_info": {
      "name": "python"
    }
  },
  "cells": [
    {
      "cell_type": "markdown",
      "source": [
        "# End-to-End Multi-Class Dog Breed Classification\n",
        "\n",
        "Using TF 2.0 for multi class classification.\n",
        "\n",
        "## 1. Problem\n",
        ">Identifying the breed of a given dog by its image.\n",
        "\n",
        "## 2. Data\n",
        "Data from Kaggle competition : https://www.kaggle.com/competitions/dog-breed-identification/data\n",
        "\n",
        "## 3. Evaluation\n",
        "According to Kaggle :\n",
        ">Submissions are evaluated on Multi Class Log Loss between the predicted probability and the observed target.\n",
        "\n",
        "## 4. Features\n",
        "* Our data is in form of images (unstructed data)\n",
        "* We have 120 dog breed (120 class)\n",
        "* labels can be found on `labels.csv`"
      ],
      "metadata": {
        "id": "m1GOO5HvqUBA"
      }
    }
  ]
}