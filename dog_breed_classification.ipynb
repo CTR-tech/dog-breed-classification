{
  "nbformat": 4,
  "nbformat_minor": 0,
  "metadata": {
    "colab": {
      "provenance": [],
      "authorship_tag": "ABX9TyOfXwXmN6U/xlHxYeXsU5lM"
    },
    "kernelspec": {
      "name": "python3",
      "display_name": "Python 3"
    },
    "language_info": {
      "name": "python"
    }
  },
  "cells": [
    {
      "cell_type": "markdown",
      "source": [
        "# End-to-End Multi-Class Dog Breed Classification\n",
        "\n",
        "Using TF 2.0 for multi class classification.\n",
        "\n",
        "## 1. Problem\n",
        ">Identifying the breed of a given dog by its image.\n",
        "\n",
        "## 2. Data\n",
        "Data from Kaggle competition : https://www.kaggle.com/competitions/dog-breed-identification/data\n",
        "\n",
        "## 3. Evaluation\n",
        "According to Kaggle :\n",
        ">Submissions are evaluated on Multi Class Log Loss between the predicted probability and the observed target.\n",
        "\n",
        "## 4. Features\n",
        "* Our data is in form of images (unstructed data)\n",
        "* We have 120 dog breed (120 class)\n",
        "* Labels can be found on `labels.csv`\n",
        "* Both training (with labaels) and test (without labels) sets have +10k image each"
      ],
      "metadata": {
        "id": "m1GOO5HvqUBA"
      }
    },
    {
      "cell_type": "code",
      "source": [
        "# Setup to import data directly from Kaggle\n",
        "# Make sure to generate api key from your Kaggle account\n",
        "# import the json file here then run the following commands\n",
        "# uncomment the following to run\n",
        "\n",
        "# ! pip install kaggle\n",
        "\n",
        "# ! pip install kaggle\n",
        "\n",
        "# ! cp kaggle.json ~/.kaggle/\n",
        "\n",
        "# ! chmod 600 ~/.kaggle/kaggle.json\n",
        "\n",
        "# ! kaggle competitions download -c dog-breed-identification\n",
        "\n",
        "# ! unzip dog-breed-identification.zip -d data"
      ],
      "metadata": {
        "id": "OsXnnloos1GE"
      },
      "execution_count": null,
      "outputs": []
    }
  ]
}